{
 "cells": [
  {
   "cell_type": "code",
   "execution_count": 20,
   "metadata": {},
   "outputs": [
    {
     "name": "stdout",
     "output_type": "stream",
     "text": [
      "Laporan Nilai Akhir Semester\n",
      "SMK WIKRAMA Bogor\n",
      "--------Data Diri---------\n",
      "NIS : 11806918\n",
      "Nama : Suhartono\n",
      "Jenis Kelamin : Laki Laki\n",
      "Rombel : RPL XI 4\n",
      "Rayon : CIB 1\n",
      "----------Nilai-----------\n",
      "Bahasa Iindonesia : 80\n",
      "Matematika : 80\n",
      "Bahasi Inggris : 80\n",
      "Nilai Rata Rata :  186.66666666666666\n",
      "Kriteria Kelulusan : Lulus\n"
     ]
    }
   ],
   "source": [
    "print(\"Laporan Nilai Akhir Semester\")\n",
    "print(\"SMK WIKRAMA Bogor\")\n",
    "print(\"--------Data Diri---------\")\n",
    "nis = int(input(\"NIS : \"))\n",
    "nama = input(\"Nama : \")\n",
    "jk = input(\"Jenis Kelamin : \")\n",
    "rombel = input(\"Rombel : \")\n",
    "rayon = input(\"Rayon : \")\n",
    "print(\"----------Nilai-----------\")\n",
    "nilai1 = int(input(\"Bahasa Iindonesia : \"))\n",
    "nilai2 = int(input(\"Matematika : \"))\n",
    "nilai3 = int(input(\"Bahasi Inggris : \"))\n",
    "a = nilai1+nilai2+nilai3/3\n",
    "print (\"Nilai Rata Rata : \",a)\n",
    "if a >= 75:\n",
    "    print(\"Kriteria Kelulusan : Lulus\")\n",
    "else:\n",
    "    print(\"Kriteria Kelulusan : Tidak Lulus\")\n",
    "    \n"
   ]
  },
  {
   "cell_type": "markdown",
   "metadata": {},
   "source": [
    " "
   ]
  },
  {
   "cell_type": "code",
   "execution_count": null,
   "metadata": {},
   "outputs": [],
   "source": []
  },
  {
   "cell_type": "code",
   "execution_count": null,
   "metadata": {},
   "outputs": [],
   "source": []
  },
  {
   "cell_type": "code",
   "execution_count": null,
   "metadata": {},
   "outputs": [],
   "source": []
  }
 ],
 "metadata": {
  "kernelspec": {
   "display_name": "Python 3",
   "language": "python",
   "name": "python3"
  },
  "language_info": {
   "codemirror_mode": {
    "name": "ipython",
    "version": 3
   },
   "file_extension": ".py",
   "mimetype": "text/x-python",
   "name": "python",
   "nbconvert_exporter": "python",
   "pygments_lexer": "ipython3",
   "version": "3.7.1"
  }
 },
 "nbformat": 4,
 "nbformat_minor": 2
}
